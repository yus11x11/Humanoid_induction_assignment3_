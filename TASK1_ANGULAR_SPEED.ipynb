{
 "cells": [
  {
   "cell_type": "code",
   "execution_count": 2,
   "metadata": {},
   "outputs": [
    {
     "name": "stderr",
     "output_type": "stream",
     "text": [
      "C:\\Users\\DELL\\AppData\\Local\\Temp\\ipykernel_17464\\3690215287.py:6: RuntimeWarning: overflow encountered in scalar subtract\n",
      "  vector1 = np.array([point1[0] - center[0], point1[1] - center[1]])\n",
      "C:\\Users\\DELL\\AppData\\Local\\Temp\\ipykernel_17464\\3690215287.py:7: RuntimeWarning: overflow encountered in scalar subtract\n",
      "  vector2 = np.array([point2[0] - center[0], point2[1] - center[1]])\n"
     ]
    },
    {
     "name": "stdout",
     "output_type": "stream",
     "text": [
      "Average Angular Speed: 1349.80 deg/s\n"
     ]
    }
   ],
   "source": [
    "import cv2\n",
    "import numpy as np\n",
    "\n",
    "\n",
    "def calculate_angle(center, point1, point2):\n",
    "    vector1 = np.array([point1[0] - center[0], point1[1] - center[1]])\n",
    "    vector2 = np.array([point2[0] - center[0], point2[1] - center[1]])\n",
    "    angle = np.arctan2(vector2[1], vector2[0]) - np.arctan2(vector1[1], vector1[0])\n",
    "    angle = np.degrees(angle)\n",
    "    if angle < 0:\n",
    "        angle += 360\n",
    "    return angle\n",
    "\n",
    "cap = cv2.VideoCapture(r\"C:\\Users\\DELL\\Downloads\\video_humanoid.mp4\")\n",
    "prev_center = None\n",
    "prev_point = None\n",
    "frame_rate = cap.get(cv2.CAP_PROP_FPS)\n",
    "angular_speed_list = []\n",
    "\n",
    "while cap.isOpened():\n",
    "    ret, frame = cap.read()\n",
    "    \n",
    "    if ret:\n",
    "        gray_frame = cv2.cvtColor(frame, cv2.COLOR_BGR2GRAY)\n",
    "        gray_frame = cv2.blur(gray_frame, (3, 3))\n",
    "\n",
    "        detected_circles = cv2.HoughCircles(gray_frame, \n",
    "                                            cv2.HOUGH_GRADIENT, dp=1, minDist=20, \n",
    "                                            param1=40, param2=32, \n",
    "                                            minRadius=23, maxRadius=33)\n",
    "\n",
    "        if detected_circles is not None:\n",
    "            detected_circles = np.uint16(np.around(detected_circles))\n",
    "            \n",
    "            \n",
    "            # circle = detected_circles[0][0]\n",
    "            # center = (circle[0], circle[1])\n",
    "            # radius = circle[2]\n",
    "            circle = max(detected_circles[0], key=lambda x: x[2])\n",
    "            center = (circle[0], circle[1])\n",
    "            radius = circle[2]\n",
    "            # print(radius)\n",
    "\n",
    "            \n",
    "            point = (center[0], center[1] - radius)\n",
    "            \n",
    "            if prev_center is not None and prev_point is not None:\n",
    "                angle = calculate_angle(center, prev_point, point)\n",
    "                angular_speed = angle * frame_rate \n",
    "                angular_speed_list.append(angular_speed)\n",
    "                \n",
    "                \n",
    "                cv2.putText(frame, f\"Angular Speed: {angular_speed:.2f} deg/s\", \n",
    "                            (10, 30), cv2.FONT_HERSHEY_SIMPLEX, 1, (255, 0, 0), 2, cv2.LINE_AA)\n",
    "\n",
    "            \n",
    "            cv2.circle(frame, center, radius, (0, 255, 0), 2)\n",
    "            cv2.circle(frame, point, 3, (0, 0, 255), 3)\n",
    "\n",
    "            prev_center = center\n",
    "            prev_point = point\n",
    "\n",
    "        cv2.imshow(\"Detected Circle\", frame)\n",
    "        \n",
    "        if cv2.waitKey(25) & 0xFF == ord('q'):\n",
    "            break\n",
    "    else:\n",
    "        break\n",
    "\n",
    "cap.release()\n",
    "cv2.destroyAllWindows()\n",
    "\n",
    "if angular_speed_list:\n",
    "    avg_angular_speed = np.median(angular_speed_list)\n",
    "    print(f\"Average Angular Speed: {avg_angular_speed:.2f} deg/s\")\n"
   ]
  },
  {
   "cell_type": "code",
   "execution_count": null,
   "metadata": {},
   "outputs": [],
   "source": []
  }
 ],
 "metadata": {
  "kernelspec": {
   "display_name": "Python 3",
   "language": "python",
   "name": "python3"
  },
  "language_info": {
   "codemirror_mode": {
    "name": "ipython",
    "version": 3
   },
   "file_extension": ".py",
   "mimetype": "text/x-python",
   "name": "python",
   "nbconvert_exporter": "python",
   "pygments_lexer": "ipython3",
   "version": "3.11.5"
  }
 },
 "nbformat": 4,
 "nbformat_minor": 2
}
